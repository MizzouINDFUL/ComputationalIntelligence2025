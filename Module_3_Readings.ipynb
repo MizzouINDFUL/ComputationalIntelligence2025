{
 "cells": [
  {
   "cell_type": "markdown",
   "metadata": {},
   "source": [
    "# Where can I go to learn more???\n",
    "## (Specifically, as it relates to state-of-the-art)\n",
    "\n",
    "Here are a FEW, this is NOT a full list, of journals and conferences for CI. \n",
    "\n",
    "I will give you more as we go when/where it makes sense (vs overloading you today).\n",
    "\n",
    "IEEE CIS website: https://cis.ieee.org/\n",
    "\n",
    "### In General\n",
    "Journals\n",
    "* IEEE Transactions on Artificial Intelligence\n",
    "    * https://cis.ieee.org/publications/ieee-transactions-on-artificial-intelligence\n",
    "* IEEE Transactions on Emerging Topics in Computational Intelligence (new journal!)\n",
    "    * https://ieeexplore.ieee.org/xpl/RecentIssue.jsp?punumber=7433297\n",
    "* IEEE SMC (Systems, Man, and Cybernetics)\n",
    "    * http://www.ieeesmc.org\n",
    "\n",
    "### Neural Networks\n",
    "Journals \n",
    "* IEEE Transactions on Neural Networks and Learning Systems\n",
    "    * https://ieeexplore.ieee.org/xpl/RecentIssue.jsp?punumber=5962385\n",
    "* Neural Networks                            \n",
    "    * https://www.journals.elsevier.com/neural-networks\n",
    "Conferences\n",
    "* IJCNN\n",
    "    * https://2023.ijcnn.org\n",
    "* NeurIPS\n",
    "    * https://nips.cccc\n",
    "\n",
    "### Fuzzy Sets\n",
    "Journals\n",
    "* IEEE Transactions on Fuzzy Systems\n",
    "    * https://ieeexplore.ieee.org/xpl/RecentIssue.jsp?punumber=91\n",
    "* Fuzzy Sets and Systems\n",
    "    * https://www.journals.elsevier.com/fuzzy-sets-and-systems\n",
    "Conferences\n",
    "* FUZZ-IEEE\n",
    "    * https://fuzz-ieee.org\n",
    "* SSCI\n",
    "    * http://ssci2019.org/\n",
    "* NAFIPS\n",
    "    * http://nafips.ece.ualberta.ca/\n",
    "* IFSA\n",
    "    * http://fuzzysystems.org/\n",
    "\n",
    "### Evolutionary Computation\n",
    "Journals\n",
    "* IEEE Transactions on Evolutionary Computation\n",
    "    * https://ieeexplore.ieee.org/xpl/RecentIssue.jsp?punumber=4235\n",
    "Conferences\n",
    "* CEC\n",
    "    * https://2023.ieee-cec.org/\n",
    "* GECCO\n",
    "    * https://gecco-2023.sigevo.org/HomePage"
   ]
  }
 ],
 "metadata": {
  "kernelspec": {
   "display_name": "Python 3 (ipykernel)",
   "language": "python",
   "name": "python3"
  },
  "language_info": {
   "codemirror_mode": {
    "name": "ipython",
    "version": 3
   },
   "file_extension": ".py",
   "mimetype": "text/x-python",
   "name": "python",
   "nbconvert_exporter": "python",
   "pygments_lexer": "ipython3",
   "version": "3.13.5"
  }
 },
 "nbformat": 4,
 "nbformat_minor": 4
}
