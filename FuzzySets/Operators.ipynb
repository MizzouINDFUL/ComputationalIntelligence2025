{
 "cells": [
  {
   "cell_type": "code",
   "execution_count": null,
   "metadata": {},
   "outputs": [],
   "source": [
    "%matplotlib inline\n",
    "# %matplotlib notebook\n",
    "\n",
    "import numpy as np\n",
    "import matplotlib\n",
    "import matplotlib.pyplot as plt"
   ]
  },
  {
   "cell_type": "markdown",
   "metadata": {},
   "source": [
    "# Visualization of operators\n",
    "\n",
    "Today, lets visulize some unary and binary fuzzy set operators"
   ]
  },
  {
   "cell_type": "markdown",
   "metadata": {},
   "source": [
    "**Complement Operators**"
   ]
  },
  {
   "cell_type": "code",
   "execution_count": null,
   "metadata": {},
   "outputs": [],
   "source": [
    "N = 300\n",
    "\n",
    "x = np.asarray( range(1,N,1) ) / N\n",
    "y = np.zeros( x.size )\n",
    "\n",
    "fig = plt.figure(figsize=(6, 6))\n",
    "ax = plt.axes()\n",
    "\n",
    "standard = 1.0 - x\n",
    "ax.plot(x,standard,label='standard')\n",
    "\n",
    "sugeno_l = 5.0\n",
    "sugeno = ( 1.0 - x ) / ( 1 + sugeno_l * x )\n",
    "ax.plot(x,sugeno,label='sugeno 5.0')\n",
    "sugeno_l = -0.9\n",
    "sugeno = ( 1.0 - x ) / ( 1 + sugeno_l * x )\n",
    "ax.plot(x,sugeno,label='sugeno -0.9')\n",
    "\n",
    "yager_w = 2.0\n",
    "yager = (1 - x ** yager_w) ** (1.0 / yager_w)\n",
    "ax.plot(x,yager,label='yager 2.0')\n",
    "yager_w = 0.5\n",
    "yager = (1 - x ** yager_w) ** (1.0 / yager_w)\n",
    "ax.plot(x,yager,label='yager 0.5')\n",
    "\n",
    "ax.legend()\n",
    "plt.grid()\n",
    "plt.show()"
   ]
  },
  {
   "cell_type": "markdown",
   "metadata": {},
   "source": [
    "**t-norm operators**"
   ]
  },
  {
   "cell_type": "code",
   "execution_count": null,
   "metadata": {},
   "outputs": [],
   "source": [
    "import matplotlib.pyplot as plt\n",
    "from mpl_toolkits.mplot3d import axes3d\n",
    "\n",
    "fig = plt.figure(figsize=(8, 8))\n",
    "ax = plt.axes(projection='3d')\n",
    "N = 30\n",
    "x = np.outer(np.linspace(0, 1, N), np.ones(N))\n",
    "y = x.copy().T\n",
    "\n",
    "# operator 1\n",
    "z = np.multiply(x,y)\n",
    "ax.plot_wireframe(x, y, z, rstride=1, cstride=1, color='r', label='a*b')\n",
    "\n",
    "# operator 2\n",
    "z = np.minimum(x,y)\n",
    "ax.plot_wireframe(x, y, z, rstride=2, cstride=2, color='b', label='min(a,b)')\n",
    "\n",
    "ax.legend()\n",
    "plt.draw()"
   ]
  },
  {
   "cell_type": "markdown",
   "metadata": {},
   "source": [
    "**t-conorm operators**"
   ]
  },
  {
   "cell_type": "code",
   "execution_count": null,
   "metadata": {
    "scrolled": true
   },
   "outputs": [],
   "source": [
    "import matplotlib.pyplot as plt\n",
    "from mpl_toolkits.mplot3d import axes3d\n",
    "\n",
    "fig = plt.figure(figsize=(8, 8))\n",
    "ax = plt.axes(projection='3d')\n",
    "N = 30\n",
    "x = np.outer(np.linspace(0, 1, N), np.ones(N))\n",
    "y = x.copy().T\n",
    "\n",
    "# operator 1\n",
    "z = x + y - np.multiply(x,y)\n",
    "ax.plot_wireframe(x, y, z, rstride=1, cstride=1, color='r', label='a+b-a*b')\n",
    "\n",
    "# operator 2\n",
    "z = np.maximum(x,y)\n",
    "ax.plot_wireframe(x, y, z, rstride=2, cstride=2, color='b', label='max(a,b)')\n",
    "\n",
    "ax.legend()\n",
    "plt.draw()"
   ]
  },
  {
   "cell_type": "markdown",
   "metadata": {},
   "source": [
    "Here is another cool python lib that you can use to viz the above\n",
    "\n",
    "Note, you can extend it to more points/samples if you like/need"
   ]
  },
  {
   "cell_type": "code",
   "execution_count": null,
   "metadata": {},
   "outputs": [],
   "source": [
    "import matplotlib.pyplot as plt\n",
    "import matplotlib.tri as mtri\n",
    "import numpy as np\n",
    "\n",
    "xy = [ [0,0], [1,0], [0,1], [1,1] ]\n",
    "xy = np.array(xy)\n",
    "triangles = [ [0, 1, 2], [1, 2, 3] ]\n",
    "triang = mtri.Triangulation(xy[:,0], xy[:,1], triangles=triangles)\n",
    "print(xy)\n",
    "print(triangles)\n",
    "    \n",
    "#z = np.maximum(xy[:,0],xy[:,1])\n",
    "z = xy[:,0] + xy[:,1] - np.multiply(xy[:,0],xy[:,1])\n",
    "\n",
    "xi, yi = np.meshgrid(np.linspace(0,1,50), np.linspace(0, 1, 50))\n",
    "\n",
    "interp_cubic_geom = mtri.CubicTriInterpolator(triang, z, kind='min_E')\n",
    "zi_cubic_geom = interp_cubic_geom(xi, yi)\n",
    "\n",
    "plt.figure()\n",
    "plt.contourf(xi, yi, zi_cubic_geom)\n",
    "plt.plot(xi, yi, 'k-', lw=0.5, alpha=0.5)\n",
    "plt.plot(xi.T, yi.T, 'k-', lw=0.5, alpha=0.5)\n",
    "\n",
    "plt.tight_layout()\n",
    "plt.show()"
   ]
  }
 ],
 "metadata": {
  "kernelspec": {
   "display_name": "Python 3 (ipykernel)",
   "language": "python",
   "name": "python3"
  },
  "language_info": {
   "codemirror_mode": {
    "name": "ipython",
    "version": 3
   },
   "file_extension": ".py",
   "mimetype": "text/x-python",
   "name": "python",
   "nbconvert_exporter": "python",
   "pygments_lexer": "ipython3",
   "version": "3.13.5"
  }
 },
 "nbformat": 4,
 "nbformat_minor": 4
}
