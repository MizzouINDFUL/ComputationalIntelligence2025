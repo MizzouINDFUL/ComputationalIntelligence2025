{
 "cells": [
  {
   "cell_type": "code",
   "execution_count": null,
   "metadata": {},
   "outputs": [],
   "source": [
    "%matplotlib inline"
   ]
  },
  {
   "cell_type": "markdown",
   "metadata": {},
   "source": [
    "# Fuzzy C-Means\n",
    "\n",
    "Hi class, lets explore the vallina fuzzy c-means\n",
    "\n",
    "First, lets read in the IRIS data set."
   ]
  },
  {
   "cell_type": "code",
   "execution_count": null,
   "metadata": {},
   "outputs": [],
   "source": [
    "import matplotlib.pyplot as plt\n",
    "from mpl_toolkits.mplot3d import Axes3D\n",
    "from sklearn import datasets\n",
    "import numpy as np\n",
    "\n",
    "# import some data to play with\n",
    "iris = datasets.load_iris()\n",
    "print( \"Shape of iris:\", np.shape(iris.data) )\n",
    "N = iris.data.shape[0]\n",
    "D = iris.data.shape[1]\n",
    "\n",
    "# lets plot all the individual features\n",
    "fig, axs = plt.subplots(1, 4, sharey=True, tight_layout=True)\n",
    "for i in range(4):\n",
    "    X = iris.data[:,i]\n",
    "    x_min, x_max = X[:].min() - .5, X[:].max() + .5\n",
    "    axs[i].hist(X, bins=N)"
   ]
  },
  {
   "cell_type": "markdown",
   "metadata": {},
   "source": [
    "Now, plot all the tuples"
   ]
  },
  {
   "cell_type": "code",
   "execution_count": null,
   "metadata": {},
   "outputs": [],
   "source": [
    "fig, axs = plt.subplots(4, 4, sharey=True, figsize=(10, 9))\n",
    "for i in range(4):\n",
    "    for j in range(4):\n",
    "        X1 = iris.data[:,i]\n",
    "        X2 = iris.data[:,j]\n",
    "        y = iris.target\n",
    "        axs[i,j].scatter(X1, X2, c=y, cmap=plt.cm.Set1, edgecolor='k')\n",
    "        plt.xticks(())\n",
    "        plt.yticks(())"
   ]
  },
  {
   "cell_type": "markdown",
   "metadata": {},
   "source": [
    "Now, the tripples"
   ]
  },
  {
   "cell_type": "code",
   "execution_count": null,
   "metadata": {},
   "outputs": [],
   "source": [
    "# (1,2,3)\n",
    "fig = plt.figure(figsize=(8, 6))\n",
    "ax = Axes3D(fig, elev=-150, azim=110)\n",
    "ax.scatter(iris.data[:,0], iris.data[:,1], iris.data[:,2], c=y, cmap=plt.cm.Set1, edgecolor='k', s=40)\n",
    "plt.show()\n",
    "# (1,2,4)\n",
    "fig = plt.figure(figsize=(8, 6))\n",
    "ax = Axes3D(fig, elev=-150, azim=110)\n",
    "ax.scatter(iris.data[:,0], iris.data[:,1], iris.data[:,3], c=y, cmap=plt.cm.Set1, edgecolor='k', s=40)\n",
    "plt.show()\n",
    "# (2,3,4)\n",
    "fig = plt.figure(figsize=(8, 6))\n",
    "ax = Axes3D(fig, elev=-150, azim=110)\n",
    "ax.scatter(iris.data[:,1], iris.data[:,2], iris.data[:,3], c=y, cmap=plt.cm.Set1, edgecolor='k', s=40)\n",
    "plt.show()"
   ]
  },
  {
   "cell_type": "markdown",
   "metadata": {},
   "source": [
    "Now, run the simple version of the FCM"
   ]
  },
  {
   "cell_type": "code",
   "execution_count": null,
   "metadata": {},
   "outputs": [],
   "source": [
    "from sklearn.metrics.pairwise import euclidean_distances\n",
    "from IPython import display\n",
    "\n",
    "X = iris.data  \n",
    "\n",
    "# lets pick prototype's from the data randomly\n",
    "C = 3\n",
    "Prototypes = np.zeros((C,D))\n",
    "for i in range(C):\n",
    "    WhichSample = np.random.randint(0, N)\n",
    "    Prototypes[i,:] = X[WhichSample,:]\n",
    "print( \"Prototypes start\" )\n",
    "print( Prototypes )\n",
    "\n",
    "# this is our membership matrix\n",
    "MembMatrix = np.zeros((N,C))\n",
    "\n",
    "# fuzzy factor\n",
    "M = 1.5\n",
    "\n",
    "# run that algorithm\n",
    "T = 300\n",
    "for t in range(T):\n",
    "    \n",
    "    # get pair wise distances\n",
    "    X_P_DistMatrix = euclidean_distances(Prototypes,X)\n",
    "\n",
    "    # update memb matrix\n",
    "    for i in range(C):\n",
    "        for n in range(N):\n",
    "            sumv = 0\n",
    "            top = X_P_DistMatrix[i,n]\n",
    "            for m in range(C):                \n",
    "                bottom = X_P_DistMatrix[m,n]\n",
    "                sumv = sumv + pow(top / (bottom + np.finfo(float).eps),1.0/(M-1.0))\n",
    "            MembMatrix[n,i] = min(max(1.0 / (sumv + np.finfo(float).eps),0.0),1.0)            \n",
    "    \n",
    "    # update protos\n",
    "    for c in range(C):\n",
    "        Top = np.zeros((1,D))\n",
    "        Bottom = 0        \n",
    "        for n in range(N):\n",
    "            Top = Top + ( X[n,:] * pow(MembMatrix[n,c],M) )\n",
    "            Bottom = Bottom + pow(MembMatrix[n,c],M)\n",
    "        Prototypes[c,:] = Top / (Bottom + np.finfo(float).eps)\n",
    "    \n",
    "print( \"Prototypes end\" )\n",
    "print( Prototypes )"
   ]
  },
  {
   "cell_type": "markdown",
   "metadata": {},
   "source": [
    "Plot it (well, in a few dims)"
   ]
  },
  {
   "cell_type": "code",
   "execution_count": null,
   "metadata": {},
   "outputs": [],
   "source": [
    "import pylab as pl\n",
    "\n",
    "Dim1 = 2\n",
    "X1 = iris.data[:,Dim1]\n",
    "X2 = iris.data[:,Dim1+1]\n",
    "pl.scatter(X1, X2, edgecolor='b')  \n",
    "pl.plot(Prototypes[:,Dim1],Prototypes[:,Dim1+1],'xr')"
   ]
  },
  {
   "cell_type": "markdown",
   "metadata": {},
   "source": [
    "Show the membership matrix as an \"image\""
   ]
  },
  {
   "cell_type": "code",
   "execution_count": null,
   "metadata": {},
   "outputs": [],
   "source": [
    "colors = [\"skyblue\",\"red\",\"green\"]\n",
    "\n",
    "plt.figure( figsize=(10, 4) )\n",
    "\n",
    "for i in range(C):\n",
    "    b=range(0,N)\n",
    "    plt.fill_between( b, MembMatrix[:,i], color=colors[i], alpha=0.4)"
   ]
  },
  {
   "cell_type": "markdown",
   "metadata": {},
   "source": [
    "Harden the matrix"
   ]
  },
  {
   "cell_type": "code",
   "execution_count": null,
   "metadata": {},
   "outputs": [],
   "source": [
    "Harden = np.argmax( MembMatrix, axis=1 )\n",
    "print(Harden)"
   ]
  },
  {
   "cell_type": "markdown",
   "metadata": {},
   "source": [
    "Show the results"
   ]
  },
  {
   "cell_type": "code",
   "execution_count": null,
   "metadata": {},
   "outputs": [],
   "source": [
    "# what we got\n",
    "plt.figure( figsize=(10, 9) )\n",
    "i = 1\n",
    "j = 2\n",
    "X1 = iris.data[:,i]\n",
    "X2 = iris.data[:,j]\n",
    "y = Harden\n",
    "plt.scatter(X1, X2, c=y, cmap=plt.cm.Set1, edgecolor='k')\n",
    "plt.xticks(())\n",
    "plt.yticks(())\n",
    "\n",
    "# real results\n",
    "plt.figure( figsize=(10, 9) )\n",
    "i = 1\n",
    "j = 2\n",
    "X1 = iris.data[:,i]\n",
    "X2 = iris.data[:,j]\n",
    "y = iris.target\n",
    "plt.scatter(X1, X2, c=y, cmap=plt.cm.Set1, edgecolor='k')\n",
    "plt.xticks(())\n",
    "plt.yticks(())"
   ]
  }
 ],
 "metadata": {
  "kernelspec": {
   "display_name": "Python 3 (ipykernel)",
   "language": "python",
   "name": "python3"
  },
  "language_info": {
   "codemirror_mode": {
    "name": "ipython",
    "version": 3
   },
   "file_extension": ".py",
   "mimetype": "text/x-python",
   "name": "python",
   "nbconvert_exporter": "python",
   "pygments_lexer": "ipython3",
   "version": "3.13.5"
  }
 },
 "nbformat": 4,
 "nbformat_minor": 4
}
