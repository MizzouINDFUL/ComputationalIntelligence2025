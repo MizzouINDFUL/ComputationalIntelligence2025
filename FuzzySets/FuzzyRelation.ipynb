{
 "cells": [
  {
   "cell_type": "code",
   "execution_count": null,
   "metadata": {},
   "outputs": [],
   "source": [
    "%matplotlib inline"
   ]
  },
  {
   "cell_type": "markdown",
   "metadata": {},
   "source": [
    "# Example 7.2\n",
    "\n",
    "Class, lets follow Example 7.2 from your textbook (page 130)\n",
    "\n",
    "Setup. Assume we have the following two domains\n",
    " * $X = \\{1,2,3,4\\}$ (lets call this our input domain)\n",
    " * $Y = \\{a,b,c,d,e\\}$ (lets call this our output domain)\n",
    "\n",
    "**Wait, why?** Well, they are two domains with different elements to prove a point, we don't have to work with the same sets or domains. For example, an input could be the set of real-valued numbers and the output could be the days of the week. The point, we can *interface* very different types of information. \n",
    "\n",
    "OK, lets define the terms and membership functions\n",
    " * On $X$\n",
    "   * A = SMALL = $\\{1.0, 0.8, 0.0, 0.0\\}$\n",
    "     * Think about it, four elements, and four values; memb(1) = 1.0, memb(2) = 0.8, ...\n",
    " * On $Y$\n",
    "   * B = MEDIUM = $\\{0.0, 0.5, 1.0, 0.5, 0.0\\}$\n",
    " * Note, these two terms, A and B, have linguistic associations, \"SMALL\" and \"MEDIUM\"\n",
    " * Note, not ALL fuzzy sets need to be linguistic, this is just an example using human language\n",
    "\n",
    "Lets work with a relation\n",
    " * IF U is SMALL then V is MEDIUM\n",
    "\n",
    "Lets use a few different implication operators"
   ]
  },
  {
   "cell_type": "code",
   "execution_count": null,
   "metadata": {},
   "outputs": [],
   "source": [
    "import numpy as np\n",
    "import matplotlib\n",
    "import matplotlib.pyplot as plt\n",
    "\n",
    "A = np.asarray( [1.0, 0.8, 0.0, 0.0] )\n",
    "B = np.asarray( [0.0, 0.5, 1.0, 0.5, 0.0] )\n",
    "\n",
    "def implication_zadeh(x,y):\n",
    "    return min( 1.0 , 1.0 - x + y )\n",
    "\n",
    "def implication_correlation_min(x,y):\n",
    "    return min( x, y )\n",
    "\n",
    "def implication_correlation_prod(x,y):\n",
    "    return (x * y)"
   ]
  },
  {
   "cell_type": "markdown",
   "metadata": {},
   "source": [
    "Lets look at Zadeh's result"
   ]
  },
  {
   "cell_type": "code",
   "execution_count": null,
   "metadata": {},
   "outputs": [],
   "source": [
    "relation = np.zeros((len(A),len(B)))\n",
    "\n",
    "for i in range(len(A)):\n",
    "    for j in range(len(B)):\n",
    "        relation[i,j] = implication_zadeh(A[i],B[j])\n",
    "        \n",
    "print(\"Zadeh\")\n",
    "print(relation)"
   ]
  },
  {
   "cell_type": "markdown",
   "metadata": {},
   "source": [
    "The others"
   ]
  },
  {
   "cell_type": "code",
   "execution_count": null,
   "metadata": {},
   "outputs": [],
   "source": [
    "relation = np.zeros((len(A),len(B)))\n",
    "\n",
    "for i in range(len(A)):\n",
    "    for j in range(len(B)):\n",
    "        relation[i,j] = implication_correlation_min(A[i],B[j])\n",
    "        \n",
    "print(\"Corr min\")\n",
    "print(relation)\n",
    "\n",
    "relation = np.zeros((len(A),len(B)))\n",
    "\n",
    "for i in range(len(A)):\n",
    "    for j in range(len(B)):\n",
    "        relation[i,j] = implication_correlation_prod(A[i],B[j])\n",
    "        \n",
    "print(\"Corr prod\")\n",
    "print(relation)"
   ]
  },
  {
   "cell_type": "markdown",
   "metadata": {},
   "source": [
    "# Q&A\n",
    "\n",
    "Try a few different implication operators\n",
    "\n",
    "Also, try for the case of two inputs, IF U1 is Small AND U2 is Hot then ... "
   ]
  }
 ],
 "metadata": {
  "kernelspec": {
   "display_name": "Python 3 (ipykernel)",
   "language": "python",
   "name": "python3"
  },
  "language_info": {
   "codemirror_mode": {
    "name": "ipython",
    "version": 3
   },
   "file_extension": ".py",
   "mimetype": "text/x-python",
   "name": "python",
   "nbconvert_exporter": "python",
   "pygments_lexer": "ipython3",
   "version": "3.13.5"
  }
 },
 "nbformat": 4,
 "nbformat_minor": 4
}
