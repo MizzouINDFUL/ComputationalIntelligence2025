{
 "cells": [
  {
   "cell_type": "code",
   "execution_count": null,
   "metadata": {},
   "outputs": [],
   "source": [
    "%matplotlib inline"
   ]
  },
  {
   "cell_type": "markdown",
   "metadata": {},
   "source": [
    "# Fuzzy Inference\n",
    "\n",
    "On this Jupyter page, lets look at the compositional rule of inference.\n",
    "\n",
    "Consider Zadeh's compositional rule of inference "
   ]
  },
  {
   "cell_type": "raw",
   "metadata": {},
   "source": [
    "Rule: IF U is A then V is B\n",
    "Fact: U is A'\n",
    "Conclusion: V is B'"
   ]
  },
  {
   "cell_type": "markdown",
   "metadata": {},
   "source": [
    "Lets look at some code to calculate this (following the example from our fuzzy relation Jupyter page)"
   ]
  },
  {
   "cell_type": "code",
   "execution_count": null,
   "metadata": {},
   "outputs": [],
   "source": [
    "import numpy as np\n",
    "import matplotlib\n",
    "import matplotlib.pyplot as plt\n",
    "\n",
    "A = np.asarray( [1.0, 0.8, 0.0, 0.0] )\n",
    "B = np.asarray( [0.0, 0.5, 1.0, 0.5, 0.0] )"
   ]
  },
  {
   "cell_type": "code",
   "execution_count": null,
   "metadata": {},
   "outputs": [],
   "source": [
    "def implication_zadeh(x,y):\n",
    "    return min( 1.0 , 1.0 - x + y )\n",
    "\n",
    "def implication_correlation_min(x,y):\n",
    "    return min( x, y )\n",
    "\n",
    "def implication_correlation_prod(x,y):\n",
    "    return (x * y)"
   ]
  },
  {
   "cell_type": "code",
   "execution_count": null,
   "metadata": {},
   "outputs": [],
   "source": [
    "R = np.zeros((len(A),len(B)))\n",
    "for i in range(len(A)):\n",
    "    for j in range(len(B)):\n",
    "        R[i,j] = implication_zadeh(A[i],B[j])"
   ]
  },
  {
   "cell_type": "code",
   "execution_count": null,
   "metadata": {},
   "outputs": [],
   "source": [
    "newB = np.zeros(len(B))\n",
    "for j in range(len(B)):\n",
    "    for i in range(len(A)):\n",
    "        temp = min(A[i],R[i,j])\n",
    "        if(temp > newB[j]):\n",
    "            newB[j] = temp\n",
    "print(newB)"
   ]
  },
  {
   "cell_type": "markdown",
   "metadata": {},
   "source": [
    "What if we try corr min?"
   ]
  },
  {
   "cell_type": "code",
   "execution_count": null,
   "metadata": {},
   "outputs": [],
   "source": [
    "R = np.zeros((len(A),len(B)))\n",
    "for i in range(len(A)):\n",
    "    for j in range(len(B)):\n",
    "        R[i,j] = implication_correlation_min(A[i],B[j])\n",
    "        \n",
    "newB = np.zeros(len(B))\n",
    "for j in range(len(B)):\n",
    "    for i in range(len(A)):\n",
    "        temp = min(A[i],R[i,j])\n",
    "        if(temp > newB[j]):\n",
    "            newB[j] = temp\n",
    "print(newB)"
   ]
  },
  {
   "cell_type": "markdown",
   "metadata": {},
   "source": [
    "# Q&A\n",
    "\n",
    "Consider the following\n",
    "\n",
    " * What happens if you enter the same input, do you recover the same output?\n",
    " * What happens if you enter all 0's (what does that mean?)\n",
    " * What happens if you enter all 1's (what does that mean?)\n",
    " * What happens if you enter all 0.5's (what does that mean?)\n",
    " * What happens if you enter the complement of A?\n",
    " \n",
    " Also, can you extend this to the case of multiple inputs? IF U1 is Small and U2 is Hot then ..."
   ]
  }
 ],
 "metadata": {
  "kernelspec": {
   "display_name": "Python 3 (ipykernel)",
   "language": "python",
   "name": "python3"
  },
  "language_info": {
   "codemirror_mode": {
    "name": "ipython",
    "version": 3
   },
   "file_extension": ".py",
   "mimetype": "text/x-python",
   "name": "python",
   "nbconvert_exporter": "python",
   "pygments_lexer": "ipython3",
   "version": "3.13.5"
  }
 },
 "nbformat": 4,
 "nbformat_minor": 4
}
